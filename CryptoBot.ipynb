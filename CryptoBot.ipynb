{
 "cells": [
  {
   "cell_type": "code",
   "execution_count": 1,
   "metadata": {},
   "outputs": [],
   "source": [
    "import os\n",
    "import sys\n",
    "# import cv2\n",
    "\n",
    "import math\n",
    "\n",
    " \n",
    "import time\n",
    "import datetime\n",
    "from datetime import timezone\n",
    " \n",
    "import numpy as np\n",
    "import pandas as pd \n",
    "import matplotlib.pyplot as plt\n",
    "\n",
    "import ccxt\n",
    "\n",
    "import ta\n",
    "import json\n",
    "\n",
    "from utils import *  "
   ]
  },
  {
   "cell_type": "markdown",
   "metadata": {},
   "source": [
    "## Auth.py"
   ]
  },
  {
   "cell_type": "code",
   "execution_count": 2,
   "metadata": {},
   "outputs": [
    {
     "name": "stdout",
     "output_type": "stream",
     "text": [
      "IP Address of the Machine:  5.151.68.41\n"
     ]
    }
   ],
   "source": [
    "# Check Ip Address (Make sure this IP address is whitelisted on Binance)\n",
    "\n",
    "print('IP Address of the Machine: ', getIP())\n"
   ]
  },
  {
   "cell_type": "code",
   "execution_count": 3,
   "metadata": {},
   "outputs": [
    {
     "name": "stdout",
     "output_type": "stream",
     "text": [
      "Successfully logged into Binance\n",
      "Binance\n"
     ]
    }
   ],
   "source": [
    "exchange = log_in()\n",
    "print(exchange)"
   ]
  },
  {
   "cell_type": "code",
   "execution_count": 4,
   "metadata": {},
   "outputs": [
    {
     "name": "stdout",
     "output_type": "stream",
     "text": [
      "3.0472837\n"
     ]
    }
   ],
   "source": [
    "balances = pd.DataFrame(exchange.fetch_balance()['info']['balances'])\n",
    "coin_balance=float(balances[balances['asset']=='USDT']['free'].values[0])\n",
    "print(coin_balance)"
   ]
  },
  {
   "cell_type": "code",
   "execution_count": 7,
   "metadata": {},
   "outputs": [
    {
     "name": "stdout",
     "output_type": "stream",
     "text": [
      "3.0472837\n"
     ]
    }
   ],
   "source": [
    "def fetch_coin_balance(symbol:str='BTC') -> float:\n",
    "    balances = pd.DataFrame(exchange.fetch_balance()['info']['balances'])\n",
    "    pair_balance = float(balances[balances['asset']==symbol]['free'].values[0])\n",
    "    return pair_balance\n",
    "\n",
    "print(fetch_coin_balance(symbol='USDT'))"
   ]
  },
  {
   "cell_type": "code",
   "execution_count": 9,
   "metadata": {},
   "outputs": [],
   "source": [
    "symbol = 'BTC/USDT'\n",
    "type = 'limit'  # or 'market'\n",
    "side = 'sell'  # or 'buy'\n",
    "amount = 0.00008\n",
    "price = 63743.04  # or None\n",
    "\n",
    "# order = exchange.create_order(symbol, type, side, amount, price)"
   ]
  },
  {
   "cell_type": "code",
   "execution_count": null,
   "metadata": {},
   "outputs": [],
   "source": [
    "print('Open Orders: ', pd.DataFrame(exchange.fetch_closed_orders(symbol)))"
   ]
  },
  {
   "cell_type": "code",
   "execution_count": null,
   "metadata": {},
   "outputs": [],
   "source": [
    "# order = exchange.create_market_buy_order(symbol, amount)"
   ]
  },
  {
   "cell_type": "code",
   "execution_count": null,
   "metadata": {},
   "outputs": [],
   "source": [
    "print('Open Orders: ', exchange.fetch_open_orders(symbol))\n",
    "print('Len closed Orders: ', len(exchange.fetch_closed_orders(symbol)))\n",
    "exchange.create_market_buy_order(symbol, amount)\n",
    "print('Open Orders: ', exchange.fetch_open_orders(symbol))\n",
    "print('closed Orders: ', exchange.fetch_closed_orders(symbol))"
   ]
  },
  {
   "cell_type": "code",
   "execution_count": null,
   "metadata": {},
   "outputs": [],
   "source": [
    "\n",
    "def create_order():\n",
    "    # exchange = ccxt.pro.binance({\n",
    "    #     'apiKey': 'YOUR_API_KEY',\n",
    "    #     'secret': 'YOUR_SECRET',\n",
    "    # })\n",
    "\n",
    "    markets = exchange.load_markets()\n",
    "\n",
    "    # exchange.verbose = True  # uncomment for debugging purposes if necessary\n",
    "\n",
    "    symbol = 'ETH/BTC'\n",
    "    type = 'limit'  # or 'market'\n",
    "    side = 'sell'  # or 'buy'\n",
    "    amount = 1.0\n",
    "    price = 0.060154  # or None\n",
    "\n",
    "    order = exchange.create_order(symbol, type, side, amount, price)\n",
    "    print('Open Orders: ', exchange.fetch_open_orders())\n",
    "    canceled = exchange.cancel_order(order['id'], order['symbol'])\n",
    "    print('Open Orders 2nd time: ', exchange.fetch_open_orders())\n",
    "\n",
    "    print(canceled)\n",
    "\n",
    "    exchange.close()\n",
    "\n",
    "def main():\n",
    "    create_order()\n",
    "    \n",
    "\n",
    "\n",
    "main()"
   ]
  },
  {
   "cell_type": "code",
   "execution_count": null,
   "metadata": {},
   "outputs": [],
   "source": [
    "# exchange.fetch_closed_orders('BTC/USDT')"
   ]
  },
  {
   "cell_type": "code",
   "execution_count": null,
   "metadata": {},
   "outputs": [],
   "source": [
    "days = 25 \n",
    "from_timestamp = exchange.milliseconds() - days * 86400 * 1000 * 1\n",
    "data = exchange.fetch_ohlcv('BTC/USDT', '1d', from_timestamp)\n",
    "print(len(data))\n",
    "data"
   ]
  },
  {
   "cell_type": "code",
   "execution_count": null,
   "metadata": {},
   "outputs": [],
   "source": [
    "account_balance = pd.DataFrame(exchange.fetch_balance()['info']['balances'])\n",
    "account_balance[account_balance['asset']=='USDT']"
   ]
  },
  {
   "cell_type": "code",
   "execution_count": null,
   "metadata": {},
   "outputs": [],
   "source": [
    "account_balance.free.astype('float32').sum()"
   ]
  },
  {
   "cell_type": "code",
   "execution_count": null,
   "metadata": {},
   "outputs": [],
   "source": [
    "exchange.positions"
   ]
  },
  {
   "cell_type": "code",
   "execution_count": 19,
   "metadata": {},
   "outputs": [],
   "source": [
    "starting_usdt = 1000\n",
    "starting_coin = 0\n",
    "trading_fees = 0.001"
   ]
  },
  {
   "cell_type": "code",
   "execution_count": 62,
   "metadata": {},
   "outputs": [
    {
     "name": "stdout",
     "output_type": "stream",
     "text": [
      "Help on method fetch_ohlcv in module ccxt.binance:\n",
      "\n",
      "fetch_ohlcv(symbol: str, timeframe='1m', since: Optional[int] = None, limit: Optional[int] = None, params={}) -> List[list] method of ccxt.binance.binance instance\n",
      "    fetches historical candlestick data containing the open, high, low, and close price, and the volume of a market\n",
      "    :see: https://binance-docs.github.io/apidocs/spot/en/#kline-candlestick-data\n",
      "    :see: https://binance-docs.github.io/apidocs/voptions/en/#kline-candlestick-data\n",
      "    :see: https://binance-docs.github.io/apidocs/futures/en/#index-price-kline-candlestick-data\n",
      "    :see: https://binance-docs.github.io/apidocs/futures/en/#mark-price-kline-candlestick-data\n",
      "    :see: https://binance-docs.github.io/apidocs/futures/en/#kline-candlestick-data\n",
      "    :see: https://binance-docs.github.io/apidocs/delivery/en/#index-price-kline-candlestick-data\n",
      "    :see: https://binance-docs.github.io/apidocs/delivery/en/#mark-price-kline-candlestick-data\n",
      "    :see: https://binance-docs.github.io/apidocs/delivery/en/#kline-candlestick-data\n",
      "    :param str symbol: unified symbol of the market to fetch OHLCV data for\n",
      "    :param str timeframe: the length of time each candle represents\n",
      "    :param int [since]: timestamp in ms of the earliest candle to fetch\n",
      "    :param int [limit]: the maximum amount of candles to fetch\n",
      "    :param dict [params]: extra parameters specific to the exchange API endpoint\n",
      "    :param str [params.price]: \"mark\" or \"index\" for mark price and index price candles\n",
      "    :param int [params.until]: timestamp in ms of the latest candle to fetch\n",
      "    :param boolean [params.paginate]: default False, when True will automatically paginate by calling self endpoint multiple times. See in the docs all the [availble parameters](https://github.com/ccxt/ccxt/wiki/Manual#pagination-params)\n",
      "    :returns int[][]: A list of candles ordered, open, high, low, close, volume\n",
      "\n"
     ]
    }
   ],
   "source": [
    "help(exchange.fetch_ohlcv)"
   ]
  },
  {
   "cell_type": "code",
   "execution_count": 36,
   "metadata": {},
   "outputs": [
    {
     "name": "stdout",
     "output_type": "stream",
     "text": [
      "1714435200000\n",
      "2024-04-30 01:00:00\n"
     ]
    }
   ],
   "source": [
    "since = '2024-04-30T00:00:00'\n",
    "if isinstance(since, str):\n",
    "    since = exchange.parse8601(since)\n",
    "    print(since)\n",
    "    print(datetime.datetime.fromtimestamp(since/1000.0))"
   ]
  },
  {
   "cell_type": "code",
   "execution_count": 43,
   "metadata": {},
   "outputs": [],
   "source": [
    "class TradingBot:\n",
    "    def __init__(self, exchange, name='freedom_25'):\n",
    "        \n",
    "        print('Hi I am Freedom  25, To your service')\n",
    "        self.exchange = exchange\n",
    "        self.exchange.load_markets()\n",
    "        # os.system('pwd')\n",
    "        \n",
    "    def get_historical_prices(self, symbols:str='BTC/USDT', timeframe:str='1d', days:int = 500, start: datetime = None, end: datetime = None, save:bool=False)-> pd.DataFrame:\n",
    "        from_timestamp = exchange.milliseconds() - days * 86400 * 1000\n",
    "        to_timestamp = exchange.milliseconds() - (days-10) * 86400 * 1000\n",
    "        # bars = exchange.fetch_ohlcv(symbols, timeframe)\n",
    "        \n",
    "        if days:\n",
    "            print(f'Fetching past {days} days data for {symbol} || Timeframe: {timeframe}')\n",
    "            bars = exchange.fetch_ohlcv(symbols, timeframe=timeframe, since=from_timestamp, limit=1000)\n",
    "        \n",
    "        #TODO: from-to timestamp data fetch\n",
    "        if start:\n",
    "            if end:\n",
    "                pass\n",
    "            else:\n",
    "                pass\n",
    "            \n",
    "\n",
    "        # bars = exchange.fetch_ohlcv(symbols, timeframe=timeframe, since=from_timestamp,  params={'until': to_timestamp}, limit=1000)\n",
    "        df = pd.DataFrame(bars[:-1], columns=['date', 'open', 'high', 'low', 'close', 'volume'])\n",
    "        df['date'] = pd.to_datetime(df['date'], unit='ms')\n",
    "        df['date'] = df['date'].dt.strftime('%Y-%m-%d %H:%M:%S')\n",
    "        df[\"close\"] = pd.to_numeric(df[\"close\"])\n",
    "        df[\"high\"] = pd.to_numeric(df[\"high\"])\n",
    "        df[\"low\"] = pd.to_numeric(df[\"low\"])\n",
    "        df[\"open\"] = pd.to_numeric(df[\"open\"])\n",
    "        \n",
    "        if save:\n",
    "            filename = f'{symbol.split('/')[0]}_{symbol.split('/')[1]}_{days}_days.csv' #'test.csv'\n",
    "            print(filename)\n",
    "            df.to_csv(filename)\n",
    "        \n",
    "        return df\n",
    "    \n",
    "    def fetch_coin_balance(self, symbol:str='BTC') -> float:\n",
    "        balances = pd.DataFrame(exchange.fetch_balance()['info']['balances'])\n",
    "        pair_balance = float(balances[balances['asset']==symbol]['free'].values[0])\n",
    "        return pair_balance\n",
    "    \n",
    "    \n",
    "    \n",
    "    \n",
    "    def populate_indicators(self, data:pd.DataFrame):\n",
    "        data['MA-st'] = ta.trend.sma_indicator(data['close'], 10)\n",
    "        data['MA-lt'] = ta.trend.sma_indicator(data['close'], 40)\n",
    "        data['EMAf'] = ta.trend.ema_indicator(data['close'], 10)\n",
    "        data['EMAs'] = ta.trend.ema_indicator(data['close'], 30)\n",
    "        data['Trend'] = ta.trend.sma_indicator(data['close'], 50)\n",
    "        data['RSI'] = ta.momentum.rsi(data['close'])\n",
    "        data['ATR'] = ta.volatility.average_true_range(data['high'], data['low'], data['close'], window=14)\n",
    "\n",
    "        # MACD = ta.trend.MACD(data['close'], window_slow=26, window_fast=12, window_sign=9)\n",
    "        # data['MACD'] = MACD.macd()\n",
    "        # data['MACD_histo'] = MACD.macd_diff()\n",
    "        # data['MACD_signal'] = MACD.macd_signal()\n",
    "\n",
    "        # BB = ta.volatility.BollingerBands(close=data['close'], window=100, window_dev=2)\n",
    "        # data[\"BB_lower\"] = BB.bollinger_lband()\n",
    "        # data[\"BB_upper\"] = BB.bollinger_hband()\n",
    "        # data[\"BB_avg\"] = BB.bollinger_mavg()\n",
    "        return data\n",
    "    \n",
    "     \n",
    "    def plot_data(self, dataframe:pd.DataFrame):\n",
    "        pass\n",
    "    \n",
    "    def create_trade(self):\n",
    "        pass\n",
    "    \n",
    "    def execute_signals(self):\n",
    "        pass\n",
    "    \n",
    "    def execute_trades(self):\n",
    "        pass\n",
    "    \n",
    "    def run(self):\n",
    "        df = self.get_historical_prices(symbols='BTC/USDT', timeframe='1d', days=500)\n",
    "        print(df.head())\n",
    "        print(df.tail())\n",
    "        signal_df = self.populate_indicators(df)\n",
    "        print(signal_df.tail()) \n",
    "        return signal_df\n",
    "    \n",
    "    \n",
    "   "
   ]
  },
  {
   "cell_type": "code",
   "execution_count": 44,
   "metadata": {},
   "outputs": [
    {
     "name": "stdout",
     "output_type": "stream",
     "text": [
      "Hi I am Freedom  25, To your service\n",
      "Fetching past 500 days data for BTC/USDT || Timeframe: 1d\n",
      "                  date      open      high       low     close        volume\n",
      "0  2022-12-18 00:00:00  16777.54  16863.26  16663.07  16738.21  112619.31646\n",
      "1  2022-12-19 00:00:00  16739.00  16815.99  16256.30  16438.88  179094.28305\n",
      "2  2022-12-20 00:00:00  16438.88  17061.27  16397.20  16895.56  248808.92324\n",
      "3  2022-12-21 00:00:00  16896.15  16925.00  16723.00  16824.67  156810.96362\n",
      "4  2022-12-22 00:00:00  16824.68  16868.52  16559.85  16821.43  176044.27235\n",
      "                    date      open      high       low     close       volume\n",
      "494  2024-04-25 00:00:00  64289.58  65297.94  62794.00  64498.34  31341.46338\n",
      "495  2024-04-26 00:00:00  64498.33  64820.01  63297.48  63770.01  27085.19346\n",
      "496  2024-04-27 00:00:00  63770.00  63923.41  62391.24  63461.98  20933.06052\n",
      "497  2024-04-28 00:00:00  63461.98  64370.00  62781.00  63118.62  16949.20005\n",
      "498  2024-04-29 00:00:00  63118.62  64228.35  61765.53  63866.00  28150.22947\n",
      "                    date      open      high       low     close       volume  \\\n",
      "494  2024-04-25 00:00:00  64289.58  65297.94  62794.00  64498.34  31341.46338   \n",
      "495  2024-04-26 00:00:00  64498.33  64820.01  63297.48  63770.01  27085.19346   \n",
      "496  2024-04-27 00:00:00  63770.00  63923.41  62391.24  63461.98  20933.06052   \n",
      "497  2024-04-28 00:00:00  63461.98  64370.00  62781.00  63118.62  16949.20005   \n",
      "498  2024-04-29 00:00:00  63118.62  64228.35  61765.53  63866.00  28150.22947   \n",
      "\n",
      "         MA-st        MA-lt          EMAf          EMAs       Trend  \\\n",
      "494  64426.184  66963.51250  65097.259797  65830.430080  67470.9790   \n",
      "495  64423.846  66847.92575  64855.941652  65697.499752  67409.9158   \n",
      "496  64642.307  66744.22550  64602.494079  65553.272671  67316.6716   \n",
      "497  64607.161  66773.75600  64332.698792  65396.198305  67212.7786   \n",
      "498  64611.960  66674.39325  64247.844466  65297.475834  67110.9810   \n",
      "\n",
      "           RSI          ATR  \n",
      "494  46.408086  3319.622984  \n",
      "495  44.681714  3191.259199  \n",
      "496  43.937285  3072.752828  \n",
      "497  43.075760  2966.770483  \n",
      "498  45.577210  2930.774020  \n"
     ]
    }
   ],
   "source": [
    "def main():\n",
    "    bot = TradingBot(exchange=exchange)\n",
    "    signal_df = bot.run() \n",
    "    return signal_df\n",
    "    \n",
    "\n",
    "signal_df = main()   "
   ]
  },
  {
   "cell_type": "code",
   "execution_count": 82,
   "metadata": {},
   "outputs": [],
   "source": [
    "def buy_condition(row):\n",
    "        if row['MA-st'] > row['MA-lt']:\n",
    "            return True\n",
    "        else:\n",
    "            return False\n",
    "        \n",
    "    #     return row['MA-st'] > row['MA-lt']:\n",
    "\n",
    "def sell_condition(row):\n",
    "    if row['MA-st'] < row['MA-lt']:\n",
    "        return True\n",
    "    else:\n",
    "        return False"
   ]
  },
  {
   "cell_type": "code",
   "execution_count": 6,
   "metadata": {},
   "outputs": [
    {
     "data": {
      "text/plain": [
       "500.0"
      ]
     },
     "execution_count": 6,
     "metadata": {},
     "output_type": "execute_result"
    }
   ],
   "source": [
    "def calculate_position_size(balance, exposure, entry_price, stop_loss_price):\n",
    "    if exposure == 'all':\n",
    "        return balance\n",
    "    risked_amount = balance * (exposure / 100)\n",
    "    position = risked_amount * entry_price / abs(entry_price - stop_loss_price)\n",
    "    return min(balance, position)\n",
    "\n",
    "calculate_position_size(1000, 10, 10, 8)"
   ]
  },
  {
   "cell_type": "markdown",
   "metadata": {},
   "source": [
    "## Complete Backtest"
   ]
  },
  {
   "cell_type": "markdown",
   "metadata": {},
   "source": [
    "## Asset"
   ]
  },
  {
   "cell_type": "code",
   "execution_count": null,
   "metadata": {},
   "outputs": [],
   "source": [
    "name_base = \"BTC\"\n",
    "name_quote = \"USDT\""
   ]
  },
  {
   "cell_type": "markdown",
   "metadata": {},
   "source": [
    "### Data"
   ]
  },
  {
   "cell_type": "code",
   "execution_count": null,
   "metadata": {},
   "outputs": [],
   "source": [
    "timeframe = \"1d\"\n",
    "starting_date_backtest = \"01 january 2019\"\n",
    "ending_date_backtest =  \"01 january 2022\"\n",
    "starting_date_dl = \"01 january 2018\"\n",
    "ending_date_dl = \"01 january 2022\""
   ]
  },
  {
   "cell_type": "markdown",
   "metadata": {},
   "source": [
    "### Portfolio"
   ]
  },
  {
   "cell_type": "code",
   "execution_count": null,
   "metadata": {},
   "outputs": [],
   "source": [
    "initial_capital = 1000 # in quote\n",
    "exposure = 2           # position size in percent\n",
    "# exposure = 'all'       # use this instead if you want 100% of your portfolio to be used for each trade\n",
    "trade_fees = 0.1       # in percent\n",
    "leverage = 5"
   ]
  },
  {
   "cell_type": "markdown",
   "metadata": {},
   "source": [
    "### ignores"
   ]
  },
  {
   "cell_type": "code",
   "execution_count": null,
   "metadata": {},
   "outputs": [],
   "source": [
    "ignore_shorts = False\n",
    "ignore_longs = False\n",
    "\n",
    "ignore_tp = False\n",
    "ignore_sl = False\n",
    "ignore_exit = False"
   ]
  },
  {
   "cell_type": "markdown",
   "metadata": {},
   "source": [
    "### Existing Data"
   ]
  },
  {
   "cell_type": "code",
   "execution_count": 46,
   "metadata": {},
   "outputs": [
    {
     "data": {
      "text/html": [
       "<div>\n",
       "<style scoped>\n",
       "    .dataframe tbody tr th:only-of-type {\n",
       "        vertical-align: middle;\n",
       "    }\n",
       "\n",
       "    .dataframe tbody tr th {\n",
       "        vertical-align: top;\n",
       "    }\n",
       "\n",
       "    .dataframe thead th {\n",
       "        text-align: right;\n",
       "    }\n",
       "</style>\n",
       "<table border=\"1\" class=\"dataframe\">\n",
       "  <thead>\n",
       "    <tr style=\"text-align: right;\">\n",
       "      <th></th>\n",
       "      <th>Unnamed: 0</th>\n",
       "      <th>date</th>\n",
       "      <th>open</th>\n",
       "      <th>high</th>\n",
       "      <th>low</th>\n",
       "      <th>close</th>\n",
       "      <th>volume</th>\n",
       "    </tr>\n",
       "  </thead>\n",
       "  <tbody>\n",
       "    <tr>\n",
       "      <th>0</th>\n",
       "      <td>0</td>\n",
       "      <td>2022-12-18 00:00:00</td>\n",
       "      <td>16777.54</td>\n",
       "      <td>16863.26</td>\n",
       "      <td>16663.07</td>\n",
       "      <td>16738.21</td>\n",
       "      <td>112619.31646</td>\n",
       "    </tr>\n",
       "    <tr>\n",
       "      <th>1</th>\n",
       "      <td>1</td>\n",
       "      <td>2022-12-19 00:00:00</td>\n",
       "      <td>16739.00</td>\n",
       "      <td>16815.99</td>\n",
       "      <td>16256.30</td>\n",
       "      <td>16438.88</td>\n",
       "      <td>179094.28305</td>\n",
       "    </tr>\n",
       "    <tr>\n",
       "      <th>2</th>\n",
       "      <td>2</td>\n",
       "      <td>2022-12-20 00:00:00</td>\n",
       "      <td>16438.88</td>\n",
       "      <td>17061.27</td>\n",
       "      <td>16397.20</td>\n",
       "      <td>16895.56</td>\n",
       "      <td>248808.92324</td>\n",
       "    </tr>\n",
       "    <tr>\n",
       "      <th>3</th>\n",
       "      <td>3</td>\n",
       "      <td>2022-12-21 00:00:00</td>\n",
       "      <td>16896.15</td>\n",
       "      <td>16925.00</td>\n",
       "      <td>16723.00</td>\n",
       "      <td>16824.67</td>\n",
       "      <td>156810.96362</td>\n",
       "    </tr>\n",
       "    <tr>\n",
       "      <th>4</th>\n",
       "      <td>4</td>\n",
       "      <td>2022-12-22 00:00:00</td>\n",
       "      <td>16824.68</td>\n",
       "      <td>16868.52</td>\n",
       "      <td>16559.85</td>\n",
       "      <td>16821.43</td>\n",
       "      <td>176044.27235</td>\n",
       "    </tr>\n",
       "  </tbody>\n",
       "</table>\n",
       "</div>"
      ],
      "text/plain": [
       "   Unnamed: 0                 date      open      high       low     close  \\\n",
       "0           0  2022-12-18 00:00:00  16777.54  16863.26  16663.07  16738.21   \n",
       "1           1  2022-12-19 00:00:00  16739.00  16815.99  16256.30  16438.88   \n",
       "2           2  2022-12-20 00:00:00  16438.88  17061.27  16397.20  16895.56   \n",
       "3           3  2022-12-21 00:00:00  16896.15  16925.00  16723.00  16824.67   \n",
       "4           4  2022-12-22 00:00:00  16824.68  16868.52  16559.85  16821.43   \n",
       "\n",
       "         volume  \n",
       "0  112619.31646  \n",
       "1  179094.28305  \n",
       "2  248808.92324  \n",
       "3  156810.96362  \n",
       "4  176044.27235  "
      ]
     },
     "execution_count": 46,
     "metadata": {},
     "output_type": "execute_result"
    }
   ],
   "source": [
    "data_dl = pd.read_csv('BTC_USDT_500_days.csv')\n",
    "data_dl.head()"
   ]
  },
  {
   "cell_type": "markdown",
   "metadata": {},
   "source": [
    "### Core Functions"
   ]
  },
  {
   "cell_type": "code",
   "execution_count": null,
   "metadata": {},
   "outputs": [],
   "source": [
    "def calculate_position_size(balance, exposure, entry_price, stop_loss_price):\n",
    "    if exposure == 'all':\n",
    "        return balance\n",
    "    risked_amount = balance * (exposure / 100)\n",
    "    position = risked_amount * entry_price / abs(entry_price - stop_loss_price)\n",
    "    return min(balance, position)\n",
    "\n",
    "\n",
    "def calculate_liquidation_price(price, leverage, order_type):\n",
    "        if order_type == 'long':\n",
    "            return price * (1 - 1 / leverage)\n",
    "        elif order_type == 'short':\n",
    "            return price * (1 + 1 / leverage)\n",
    "\n",
    "\n",
    "def calculate_pnl(entry_price, exit_price, quantity, order_type):\n",
    "    if order_type == 'long':\n",
    "        return (exit_price - entry_price) * quantity\n",
    "    elif order_type == 'short':\n",
    "        return (entry_price - exit_price) * quantity\n",
    "    \n",
    "\n",
    "def record_order(timestamp, type, price, amount, pnl, wallet, fee, orders):\n",
    "    order = {\n",
    "        'timestamp': timestamp,\n",
    "        'type': type,\n",
    "        'amount': amount,\n",
    "        'fee': fee,\n",
    "        'pnl': pnl,\n",
    "        'wallet': wallet,\n",
    "    }\n",
    "    orders.append(order)\n",
    "    print(f\"{type} at {price} {name_quote} on {timestamp}, amount = {round(amount,2)} {name_quote}, pnl = {round(pnl,2)} {name_quote}, wallet = {round(wallet,2)} {name_quote}\")"
   ]
  },
  {
   "cell_type": "markdown",
   "metadata": {},
   "source": [
    "### Longs"
   ]
  },
  {
   "cell_type": "code",
   "execution_count": null,
   "metadata": {},
   "outputs": [],
   "source": [
    "def check_long_entry_condition(row, previous_row):\n",
    "    return row['close'] > row['Trend'] and row['EMAf'] > row['EMAs'] and previous_row['EMAf'] < previous_row['EMAs'] and row['RSI'] < 70\n",
    "\n",
    "\n",
    "def check_long_exit_condition(row, previous_row):\n",
    "    return row['EMAf'] < row['EMAs'] and previous_row['EMAf'] > previous_row['EMAs']\n",
    "\n",
    "\n",
    "def compute_long_sl_level(row, entry_price):\n",
    "    return entry_price - 2 * row['ATR']\n",
    "\n",
    "\n",
    "def compute_long_tp_level(row, entry_price, stop_loss_price):\n",
    "    risk_reward_ratio = 4\n",
    "    return entry_price * (1 + risk_reward_ratio * (1 - stop_loss_price / entry_price))\n",
    "    # return row['open'] * 1.1"
   ]
  },
  {
   "cell_type": "markdown",
   "metadata": {},
   "source": [
    "### Shorts"
   ]
  },
  {
   "cell_type": "code",
   "execution_count": null,
   "metadata": {},
   "outputs": [],
   "source": [
    "def check_short_entry_condition(row, previous_row):\n",
    "    return row['close'] < row['Trend'] and row['EMAf'] < row['EMAs'] and previous_row['EMAf'] > previous_row['EMAs'] and row['RSI'] > 30\n",
    "\n",
    "\n",
    "def check_short_exit_condition(row, previous_row):\n",
    "    return row['EMAf'] > row['EMAs'] and previous_row['EMAf'] < previous_row['EMAs']\n",
    "\n",
    "\n",
    "def compute_short_sl_level(row, entry_price):\n",
    "    return entry_price + 2 * row['ATR']\n",
    "\n",
    "\n",
    "def compute_short_tp_level(row, entry_price, stop_loss_price):\n",
    "    risk_reward_ratio = 4\n",
    "    return entry_price * (1 - risk_reward_ratio * (stop_loss_price / entry_price - 1))"
   ]
  },
  {
   "cell_type": "code",
   "execution_count": null,
   "metadata": {},
   "outputs": [],
   "source": [
    "def run_backtest(data):\n",
    "\n",
    "    # Initialize variables\n",
    "    orders = []\n",
    "    order_in_progress = None\n",
    "    last_ath = 0\n",
    "    sl_price = 0\n",
    "    tp_price = 0\n",
    "    long_liquidation_price = 0\n",
    "    short_liquidation_price = 1e10\n",
    "    wallet = initial_capital\n",
    "    data['realised_pnl'] = ''\n",
    "    data['unrealised_pnl'] = ''\n",
    "    data['hodl'] = ''\n",
    "    data['drawdown'] = ''\n",
    "    previous_row = data.iloc[0]\n",
    "\n",
    "\n",
    "    # Go through data and make trades\n",
    "    for index, row in data.iterrows():\n",
    "        price = row['close']\n",
    "\n",
    "\n",
    "        # check if it is time to close a long\n",
    "        if order_in_progress == 'long' and not ignore_longs:\n",
    "            if row['low'] < long_liquidation_price:\n",
    "                print(f' /!\\ Your long was liquidated on the {row[\"timestamp\"]} (price = {long_liquidation_price} {name_quote})')\n",
    "                sys.exit()\n",
    "\n",
    "            elif not ignore_sl and row['low'] <= sl_price:\n",
    "                pnl = calculate_pnl(entry_price, sl_price, quantity, order_in_progress)\n",
    "                fee_exit = quantity * sl_price * trade_fees / 100\n",
    "                wallet += position - fee_entry + pnl - fee_exit\n",
    "                record_order(row['timestamp'], 'long sl', sl_price, 0, pnl - fee_exit - fee_entry, wallet, fee_exit, orders)\n",
    "                order_in_progress = None\n",
    "\n",
    "            elif not ignore_tp and row['high'] >= tp_price:\n",
    "                pnl = calculate_pnl(entry_price, tp_price, quantity, order_in_progress)\n",
    "                fee_exit = quantity * tp_price * trade_fees / 100\n",
    "                wallet += position - fee_entry + pnl - fee_exit\n",
    "                record_order(row['timestamp'], 'long tp', tp_price, 0, pnl - fee_exit - fee_entry, wallet, fee_exit, orders)\n",
    "                order_in_progress = None\n",
    "\n",
    "            elif not ignore_exit and check_long_exit_condition(row, previous_row):\n",
    "                pnl = calculate_pnl(entry_price, price, quantity, order_in_progress)\n",
    "                fee_exit = quantity * price * trade_fees / 100\n",
    "                wallet += position - fee_entry + pnl - fee_exit\n",
    "                record_order(row['timestamp'], 'long exit', price, 0, pnl - fee_exit - fee_entry, wallet, fee_exit, orders)\n",
    "                order_in_progress = None\n",
    "\n",
    "            if wallet > last_ath:\n",
    "                last_ath = wallet\n",
    "\n",
    "\n",
    "        # check if it is time to close a short\n",
    "        elif order_in_progress == 'short' and not ignore_shorts:\n",
    "            if row['high'] > short_liquidation_price:\n",
    "                print(f' /!\\ Your short was liquidated on the {row[\"timestamp\"]} (price = {short_liquidation_price} {name_quote})')\n",
    "                sys.exit()\n",
    "\n",
    "            elif not ignore_sl and row['high'] >= sl_price:\n",
    "                pnl = calculate_pnl(entry_price, sl_price, quantity, order_in_progress)\n",
    "                fee_exit = quantity * sl_price * trade_fees / 100\n",
    "                wallet += position - fee_entry + pnl - fee_exit\n",
    "                record_order(row['timestamp'], 'short sl', sl_price, 0, pnl - fee_exit - fee_entry, wallet, fee_exit, orders)\n",
    "                order_in_progress = None\n",
    "\n",
    "            elif not ignore_tp and row['low'] <= tp_price:\n",
    "                pnl = calculate_pnl(entry_price, tp_price, quantity, order_in_progress)\n",
    "                fee_exit = quantity * tp_price * trade_fees / 100\n",
    "                wallet += position - fee_entry + pnl - fee_exit\n",
    "                record_order(row['timestamp'], 'short tp', tp_price, 0, pnl - fee_exit - fee_entry, wallet, fee_exit, orders)\n",
    "                order_in_progress = None\n",
    "\n",
    "            elif not ignore_exit and check_short_exit_condition(row, previous_row):\n",
    "                pnl = calculate_pnl(entry_price, price, quantity, order_in_progress)\n",
    "                fee_exit = quantity * price * trade_fees / 100\n",
    "                wallet += position - fee_entry + pnl - fee_exit\n",
    "                record_order(row['timestamp'], 'short exit', price, 0, pnl - fee_exit - fee_entry, wallet, fee_exit, orders)\n",
    "                order_in_progress = None\n",
    "\n",
    "            if wallet > last_ath:\n",
    "                last_ath = wallet\n",
    "\n",
    "\n",
    "        # check it is time to enter a long\n",
    "        if not ignore_longs and order_in_progress == None:\n",
    "            if check_long_entry_condition(row, previous_row):\n",
    "                order_in_progress = 'long'\n",
    "                if not ignore_sl:\n",
    "                    sl_price = compute_long_sl_level(row, price)\n",
    "                if not ignore_tp:\n",
    "                    tp_price = compute_long_tp_level(row, price, sl_price)\n",
    "                entry_price = price\n",
    "                position = calculate_position_size(wallet, exposure, price, sl_price)\n",
    "                amount = position * leverage\n",
    "                fee_entry = amount * trade_fees / 100\n",
    "                quantity = (amount - fee_entry) / price\n",
    "                long_liquidation_price = calculate_liquidation_price(price, leverage, order_in_progress)\n",
    "                if wallet > last_ath:\n",
    "                    last_ath = wallet\n",
    "\n",
    "                wallet -= position\n",
    "                record_order(row['timestamp'], 'long entry', price, amount-fee_entry, -fee_entry, wallet, fee_entry, orders)\n",
    "\n",
    "\n",
    "        # check if it is time to enter a short\n",
    "        if not ignore_shorts and order_in_progress == None:\n",
    "            if check_short_entry_condition(row, previous_row):\n",
    "                order_in_progress = 'short'\n",
    "                if not ignore_sl:\n",
    "                    sl_price = compute_short_sl_level(row, price)\n",
    "                if not ignore_tp:\n",
    "                    tp_price = compute_short_tp_level(row, price, sl_price)\n",
    "                entry_price = price\n",
    "                position = calculate_position_size(wallet, exposure, price, sl_price)\n",
    "                amount = position * leverage\n",
    "                fee_entry = amount * trade_fees / 100\n",
    "                quantity = (amount - fee_entry) / price\n",
    "                short_liquidation_price = calculate_liquidation_price(price, leverage, order_in_progress)\n",
    "                wallet -= position\n",
    "                record_order(row['timestamp'], 'short entry', price, amount-fee_entry, -fee_entry, wallet, fee_entry, orders)\n",
    "\n",
    "\n",
    "        # updating wallet info\n",
    "        data.at[index, 'realised_pnl'] = wallet\n",
    "        data.at[index, 'unrealised_pnl'] = data.at[index, 'realised_pnl']\n",
    "        if order_in_progress != None:\n",
    "            data.at[index, 'unrealised_pnl'] += position + calculate_pnl(entry_price, price, quantity, order_in_progress) #- fee\n",
    "        data.at[index, 'hodl'] = initial_capital / data[\"close\"].iloc[0] * price\n",
    "        data.at[index, 'drawdown'] = (data.at[index, 'unrealised_pnl'] - last_ath) / last_ath if last_ath else 0\n",
    "\n",
    "        previous_row = row\n",
    "\n",
    "    return data, orders"
   ]
  },
  {
   "cell_type": "markdown",
   "metadata": {},
   "source": [
    "## Backtest Loop"
   ]
  },
  {
   "cell_type": "code",
   "execution_count": 84,
   "metadata": {},
   "outputs": [
    {
     "name": "stdout",
     "output_type": "stream",
     "text": [
      "Bought BTC/USDT at 23060.94$ on the 39\n",
      "Sold BTC/USDT at 22430.24$ on the 78\n",
      "Bought BTC/USDT at 26907.49$ on the 91\n",
      "Sold BTC/USDT at 28415.29$ on the 130\n",
      "Bought BTC/USDT at 29026.16$ on the 137\n",
      "Sold BTC/USDT at 27668.79$ on the 142\n",
      "Bought BTC/USDT at 29884.92$ on the 187\n",
      "Sold BTC/USDT at 29228.91$ on the 220\n",
      "Bought BTC/USDT at 26568.08$ on the 278\n",
      "Sold BTC/USDT at 41659.03$ on the 398\n",
      "Bought BTC/USDT at 44349.6$ on the 417\n",
      "Sold BTC/USDT at 63419.99$ on the 485\n"
     ]
    }
   ],
   "source": [
    "symbol = 'BTC/USDT'\n",
    "data=signal_df\n",
    "\n",
    "usdt = starting_usdt\n",
    "coin = starting_coin\n",
    "trades = []\n",
    "wallet = []\n",
    "buyhold = []\n",
    "\n",
    "\n",
    "for index, row in data.iterrows():\n",
    "\n",
    "    value = row['close']\n",
    "\n",
    "    if buy_condition(row) and usdt > 0:\n",
    "        coin = usdt / value\n",
    "        coin = coin * (1 - trading_fees)\n",
    "#         coin *= 1 - trade_fees\n",
    "        usdt = 0\n",
    "        trades.append({'date':index, 'side':'buy', 'price':value, 'coin':coin, 'usdt':usdt, 'wallet':coin*value})\n",
    "        print(f\"Bought {symbol} at {value}$ on the {index}\")\n",
    "\n",
    "    if sell_condition(row) and coin > 0: \n",
    "        usdt = coin *  value\n",
    "        usdt = usdt * (1 - trading_fees)\n",
    "        coin = 0\n",
    "        trades.append({'date':index, 'side':'sell', 'price':value, 'coin':coin, 'usdt':usdt, 'wallet':usdt})\n",
    "        print(f\"Sold {symbol} at {value}$ on the {index}\")\n",
    "\n",
    "    if usdt == 0:\n",
    "        wallet.append(coin * value)\n",
    "    else:\n",
    "        wallet.append(usdt)\n",
    "\n",
    "    buyhold.append(starting_usdt / data[\"close\"].iloc[0] * value)"
   ]
  },
  {
   "cell_type": "code",
   "execution_count": 86,
   "metadata": {},
   "outputs": [
    {
     "data": {
      "text/html": [
       "<div>\n",
       "<style scoped>\n",
       "    .dataframe tbody tr th:only-of-type {\n",
       "        vertical-align: middle;\n",
       "    }\n",
       "\n",
       "    .dataframe tbody tr th {\n",
       "        vertical-align: top;\n",
       "    }\n",
       "\n",
       "    .dataframe thead th {\n",
       "        text-align: right;\n",
       "    }\n",
       "</style>\n",
       "<table border=\"1\" class=\"dataframe\">\n",
       "  <thead>\n",
       "    <tr style=\"text-align: right;\">\n",
       "      <th></th>\n",
       "      <th>date</th>\n",
       "      <th>side</th>\n",
       "      <th>price</th>\n",
       "      <th>coin</th>\n",
       "      <th>usdt</th>\n",
       "      <th>wallet</th>\n",
       "    </tr>\n",
       "  </thead>\n",
       "  <tbody>\n",
       "    <tr>\n",
       "      <th>0</th>\n",
       "      <td>39</td>\n",
       "      <td>buy</td>\n",
       "      <td>23060.94</td>\n",
       "      <td>0.04</td>\n",
       "      <td>0.00</td>\n",
       "      <td>999.00</td>\n",
       "    </tr>\n",
       "    <tr>\n",
       "      <th>1</th>\n",
       "      <td>78</td>\n",
       "      <td>sell</td>\n",
       "      <td>22430.24</td>\n",
       "      <td>0.00</td>\n",
       "      <td>970.71</td>\n",
       "      <td>970.71</td>\n",
       "    </tr>\n",
       "    <tr>\n",
       "      <th>2</th>\n",
       "      <td>91</td>\n",
       "      <td>buy</td>\n",
       "      <td>26907.49</td>\n",
       "      <td>0.04</td>\n",
       "      <td>0.00</td>\n",
       "      <td>969.74</td>\n",
       "    </tr>\n",
       "    <tr>\n",
       "      <th>3</th>\n",
       "      <td>130</td>\n",
       "      <td>sell</td>\n",
       "      <td>28415.29</td>\n",
       "      <td>0.00</td>\n",
       "      <td>1023.05</td>\n",
       "      <td>1023.05</td>\n",
       "    </tr>\n",
       "    <tr>\n",
       "      <th>4</th>\n",
       "      <td>137</td>\n",
       "      <td>buy</td>\n",
       "      <td>29026.16</td>\n",
       "      <td>0.04</td>\n",
       "      <td>0.00</td>\n",
       "      <td>1022.03</td>\n",
       "    </tr>\n",
       "    <tr>\n",
       "      <th>5</th>\n",
       "      <td>142</td>\n",
       "      <td>sell</td>\n",
       "      <td>27668.79</td>\n",
       "      <td>0.00</td>\n",
       "      <td>973.26</td>\n",
       "      <td>973.26</td>\n",
       "    </tr>\n",
       "    <tr>\n",
       "      <th>6</th>\n",
       "      <td>187</td>\n",
       "      <td>buy</td>\n",
       "      <td>29884.92</td>\n",
       "      <td>0.03</td>\n",
       "      <td>0.00</td>\n",
       "      <td>972.29</td>\n",
       "    </tr>\n",
       "    <tr>\n",
       "      <th>7</th>\n",
       "      <td>220</td>\n",
       "      <td>sell</td>\n",
       "      <td>29228.91</td>\n",
       "      <td>0.00</td>\n",
       "      <td>949.99</td>\n",
       "      <td>949.99</td>\n",
       "    </tr>\n",
       "    <tr>\n",
       "      <th>8</th>\n",
       "      <td>278</td>\n",
       "      <td>buy</td>\n",
       "      <td>26568.08</td>\n",
       "      <td>0.04</td>\n",
       "      <td>0.00</td>\n",
       "      <td>949.04</td>\n",
       "    </tr>\n",
       "    <tr>\n",
       "      <th>9</th>\n",
       "      <td>398</td>\n",
       "      <td>sell</td>\n",
       "      <td>41659.03</td>\n",
       "      <td>0.00</td>\n",
       "      <td>1486.62</td>\n",
       "      <td>1486.62</td>\n",
       "    </tr>\n",
       "    <tr>\n",
       "      <th>10</th>\n",
       "      <td>417</td>\n",
       "      <td>buy</td>\n",
       "      <td>44349.60</td>\n",
       "      <td>0.03</td>\n",
       "      <td>0.00</td>\n",
       "      <td>1485.14</td>\n",
       "    </tr>\n",
       "    <tr>\n",
       "      <th>11</th>\n",
       "      <td>485</td>\n",
       "      <td>sell</td>\n",
       "      <td>63419.99</td>\n",
       "      <td>0.00</td>\n",
       "      <td>2121.62</td>\n",
       "      <td>2121.62</td>\n",
       "    </tr>\n",
       "  </tbody>\n",
       "</table>\n",
       "</div>"
      ],
      "text/plain": [
       "    date  side     price  coin     usdt   wallet\n",
       "0     39   buy  23060.94  0.04     0.00   999.00\n",
       "1     78  sell  22430.24  0.00   970.71   970.71\n",
       "2     91   buy  26907.49  0.04     0.00   969.74\n",
       "3    130  sell  28415.29  0.00  1023.05  1023.05\n",
       "4    137   buy  29026.16  0.04     0.00  1022.03\n",
       "5    142  sell  27668.79  0.00   973.26   973.26\n",
       "6    187   buy  29884.92  0.03     0.00   972.29\n",
       "7    220  sell  29228.91  0.00   949.99   949.99\n",
       "8    278   buy  26568.08  0.04     0.00   949.04\n",
       "9    398  sell  41659.03  0.00  1486.62  1486.62\n",
       "10   417   buy  44349.60  0.03     0.00  1485.14\n",
       "11   485  sell  63419.99  0.00  2121.62  2121.62"
      ]
     },
     "execution_count": 86,
     "metadata": {},
     "output_type": "execute_result"
    }
   ],
   "source": [
    "trades = pd.DataFrame(trades, columns = ['date', 'side', 'price', 'coin', 'usdt', 'wallet'])\n",
    "trades = trades.round(2) #round numbers\n",
    "trades"
   ]
  },
  {
   "cell_type": "code",
   "execution_count": 87,
   "metadata": {},
   "outputs": [
    {
     "data": {
      "text/plain": [
       "side\n",
       "buy     6\n",
       "sell    6\n",
       "Name: count, dtype: int64"
      ]
     },
     "execution_count": 87,
     "metadata": {},
     "output_type": "execute_result"
    }
   ],
   "source": [
    "trades['side'].value_counts()"
   ]
  },
  {
   "cell_type": "code",
   "execution_count": 89,
   "metadata": {},
   "outputs": [
    {
     "data": {
      "text/plain": [
       "<Axes: >"
      ]
     },
     "execution_count": 89,
     "metadata": {},
     "output_type": "execute_result"
    },
    {
     "data": {
      "image/png": "[encoded data removed]",
      "text/plain": [
       "<Figure size 640x480 with 1 Axes>"
      ]
     },
     "metadata": {},
     "output_type": "display_data"
    }
   ],
   "source": [
    "trades.wallet.plot()"
   ]
  },
  {
   "cell_type": "code",
   "execution_count": 88,
   "metadata": {},
   "outputs": [
    {
     "name": "stdout",
     "output_type": "stream",
     "text": [
      "\n",
      "Starting amount: 1,000.00 USDT\n",
      "Buy-Hold: \t 3,762.32 USDT\t (276.23% profit)\n",
      "2-SMA: \t\t 2,121.62 USDT\t (112.16% profit)\n"
     ]
    },
    {
     "data": {
      "image/png": "[encoded data removed]",
      "text/plain": [
       "<Figure size 1000x600 with 1 Axes>"
      ]
     },
     "metadata": {},
     "output_type": "display_data"
    }
   ],
   "source": [
    "print(\n",
    "    \"\\nStarting amount: %s USDT\"\n",
    "    % (\n",
    "        \"{:0,.2f}\".format(starting_usdt),\n",
    "\n",
    "    )\n",
    ")\n",
    "print(\n",
    "    \"Buy-Hold: \\t %s USDT\\t (%s%% profit)\"\n",
    "    % (\n",
    "        \"{:0,.2f}\".format(buyhold[-1]),\n",
    "        \"{:0,.2f}\".format((buyhold[-1] / starting_usdt - 1) * 100),\n",
    "    )\n",
    ")\n",
    "print(\n",
    "    \"2-SMA: \\t\\t %s USDT\\t (%s%% profit)\"\n",
    "    % (\n",
    "        \"{:0,.2f}\".format(wallet[-1]),\n",
    "        \"{:0,.2f}\".format((wallet[-1] / starting_usdt - 1) * 100),\n",
    "    )\n",
    ")\n",
    "\n",
    "plt.figure(figsize=(10, 6))\n",
    "plt.plot(\n",
    "    data.index,\n",
    "    wallet,\n",
    "    label=\"Wallet\",\n",
    "    color=\"gold\",\n",
    ")\n",
    "plt.plot(\n",
    "    data.index,\n",
    "    buyhold,\n",
    "    label=\"Buy-Hold\",\n",
    "    color=\"purple\",\n",
    ")\n",
    "plt.legend(fontsize=18, loc=\"upper left\")\n",
    "plt.ylabel(\"Value [usdt]\", fontsize=20)\n",
    "plt.yticks(fontsize=14)\n",
    "plt.xlabel(\"Date\", fontsize=20)\n",
    "plt.xticks(fontsize=14)\n",
    "plt.tight_layout()"
   ]
  },
  {
   "cell_type": "code",
   "execution_count": null,
   "metadata": {},
   "outputs": [],
   "source": [
    "def run_bot():\n",
    "    print(f\"Fetching new bars for {datetime.datetime.now().isoformat()}\")\n",
    "    bars = exchange.fetch_ohlcv('ETH/USDT', timeframe='1m', limit=100)\n",
    "    df = pd.DataFrame(bars[:-1], columns=['date', 'open', 'high', 'low', 'close', 'volume'])\n",
    "    df['date'] = pd.to_datetime(df['date'], unit='ms')\n",
    "\n",
    "    df['date'] = df['date'].dt.strftime('%Y-%m-%d %H:%M:%S')\n",
    "    return df\n",
    "\n",
    "run_bot()"
   ]
  },
  {
   "cell_type": "code",
   "execution_count": null,
   "metadata": {},
   "outputs": [],
   "source": [
    "# -*- coding: utf-8 -*-\n",
    "\n",
    "import os\n",
    "import sys\n",
    "# import asciichart\n",
    "\n",
    "import ccxt  # noqa: E402\n",
    "binance = ccxt.binance()\n",
    "symbol = 'BTC/USDT'\n",
    "timeframe = '1h'\n",
    "\n",
    "# each ohlcv candle is a list of [ timestamp, open, high, low, close, volume ]\n",
    "index = 4  # use close price from each ohlcv candle\n",
    "\n",
    "height = 15\n",
    "length = 80\n",
    "\n",
    "\n",
    "def print_chart(exchange, symbol, timeframe):\n",
    "\n",
    "   print(\"\\n\" + exchange.name + ' ' + symbol + ' ' + timeframe + ' chart:')\n",
    "\n",
    "   # get a list of ohlcv candles\n",
    "   ohlcv = exchange.fetch_ohlcv(symbol, timeframe)\n",
    "\n",
    "   # get the ohlCv (closing price, index == 4)\n",
    "   series = [x[index] for x in ohlcv]\n",
    "\n",
    "   # print the chart\n",
    "#    print(\"\\n\" + asciichart.plot(series[-length:], {'height': height}))  # print the chart\n",
    "\n",
    "   last = ohlcv[len(ohlcv) - 1][index]  # last closing price\n",
    "   return last\n",
    "\n",
    "\n",
    "last = print_chart(binance, symbol, timeframe)\n",
    "print(\"\\n\" + binance.name + \" ₿ = $\" + str(last) + \"\\n\")  # print last closing price\n"
   ]
  },
  {
   "cell_type": "code",
   "execution_count": null,
   "metadata": {},
   "outputs": [],
   "source": []
  }
 ],
 "metadata": {
  "kernelspec": {
   "display_name": "dia",
   "language": "python",
   "name": "python3"
  },
  "language_info": {
   "codemirror_mode": {
    "name": "ipython",
    "version": 3
   },
   "file_extension": ".py",
   "mimetype": "text/x-python",
   "name": "python",
   "nbconvert_exporter": "python",
   "pygments_lexer": "ipython3",
   "version": "3.12.3"
  }
 },
 "nbformat": 4,
 "nbformat_minor": 2
}
